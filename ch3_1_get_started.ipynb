{
  "nbformat": 4,
  "nbformat_minor": 0,
  "metadata": {
    "colab": {
      "name": "ch3_1_get_started.ipynb",
      "provenance": [],
      "collapsed_sections": [],
      "include_colab_link": true
    },
    "kernelspec": {
      "display_name": "Python 3",
      "language": "python",
      "name": "python3"
    },
    "language_info": {
      "codemirror_mode": {
        "name": "ipython",
        "version": 3
      },
      "file_extension": ".py",
      "mimetype": "text/x-python",
      "name": "python",
      "nbconvert_exporter": "python",
      "pygments_lexer": "ipython3",
      "version": "3.7.7"
    }
  },
  "cells": [
    {
      "cell_type": "markdown",
      "metadata": {
        "id": "view-in-github",
        "colab_type": "text"
      },
      "source": [
        "<a href=\"https://colab.research.google.com/github/greeningstone/m_ini/blob/master/ch3_1_get_started.ipynb\" target=\"_parent\"><img src=\"https://colab.research.google.com/assets/colab-badge.svg\" alt=\"Open In Colab\"/></a>"
      ]
    },
    {
      "cell_type": "markdown",
      "metadata": {
        "colab_type": "text",
        "id": "NXBJXqjWuevS"
      },
      "source": [
        "## 1. Hello World 출력하기\n",
        "Hello World는 화면에 \"Hello, World!\"를 출력하는 프로그램이다. 정상적으로 프로그램이 작동하는지 확인하기 위한 과정으로 이해하면 좋다. 빠르게 확인해보자. "
      ]
    },
    {
      "cell_type": "code",
      "metadata": {
        "colab_type": "code",
        "id": "PjTLd-DruTvu",
        "colab": {
          "base_uri": "https://localhost:8080/",
          "height": 34
        },
        "outputId": "94d2b381-92b7-4e01-8078-668afa5911ab"
      },
      "source": [
        "# 1. Hello World 출력하기\n",
        "print(\"Hello, World!\")"
      ],
      "execution_count": null,
      "outputs": [
        {
          "output_type": "stream",
          "text": [
            "Hello, World!\n"
          ],
          "name": "stdout"
        }
      ]
    },
    {
      "cell_type": "markdown",
      "metadata": {
        "colab_type": "text",
        "id": "Fh-g2cFFudqr"
      },
      "source": [
        "## 2. Hello 텐서플로 2.0 출력하기\n",
        "텐서플로 `1.xx` 버전과 `2.0` 버전의 차이는 매우 크기 때문에, 꼭 버전 확인하는 것이 중요하다. 만약 로컬에서 텐서플로를 구현한다면, 반드시 버전 확인을 해야 한다. 구글 코랩에서는 아래와 같은 명령어로 `tensorflow 2.0`을 설치할 수 있다. \n"
      ]
    },
    {
      "cell_type": "code",
      "metadata": {
        "colab_type": "code",
        "id": "FG57RlBvzlNP",
        "colab": {}
      },
      "source": [
        "try:\n",
        "  # %tensorflow_version only exists in Colab\n",
        "  %tensorflow_version 2.x\n",
        "except Exception:\n",
        "  pass\n",
        "import tensorflow as tf"
      ],
      "execution_count": null,
      "outputs": []
    },
    {
      "cell_type": "markdown",
      "metadata": {
        "colab_type": "text",
        "id": "6uyns96d0T09"
      },
      "source": [
        "위 소스코드에 대해 간단하게 설명하면 다음과 같다. \n",
        "- `%`기호는 일종의 매직 커맨드라고 불리워진다. \n",
        "- `tensorflow_version` 텐서플로의 버전을 선택하는 기능이며, 이 기능은 구글 코랩에서만 실행이 가능하니, 유의하기 바란다. \n",
        "\n",
        "이제 `tensorflow`를 메모리로 불러오는 과정을 진행한다. 이 과정을 `Python`에서는 모듈(`Module`) 임포트(`import`)이라고 불리워진다. \n"
      ]
    },
    {
      "cell_type": "code",
      "metadata": {
        "colab_type": "code",
        "id": "lG69-gfF1ReD",
        "colab": {
          "base_uri": "https://localhost:8080/",
          "height": 34
        },
        "outputId": "d3958c69-9e91-4ae9-b2e9-2a10360aac4a"
      },
      "source": [
        "import tensorflow as tf\n",
        "print(tf.__version__)"
      ],
      "execution_count": null,
      "outputs": [
        {
          "output_type": "stream",
          "text": [
            "2.2.0-rc2\n"
          ],
          "name": "stdout"
        }
      ]
    },
    {
      "cell_type": "markdown",
      "metadata": {
        "colab_type": "text",
        "id": "T9SQj8Hr2Ygy"
      },
      "source": [
        "위 버전이 확인되었으면 이제 정상적으로 `Hello World`를 출력해본다. "
      ]
    },
    {
      "cell_type": "code",
      "metadata": {
        "colab_type": "code",
        "id": "CDApWkOs2Igh",
        "colab": {
          "base_uri": "https://localhost:8080/",
          "height": 34
        },
        "outputId": "8076c4aa-8dfe-4e49-bf50-10a86bac8afa"
      },
      "source": [
        "tf.constant(\"hello world\")"
      ],
      "execution_count": null,
      "outputs": [
        {
          "output_type": "execute_result",
          "data": {
            "text/plain": [
              "<tf.Tensor: shape=(), dtype=string, numpy=b'hello world'>"
            ]
          },
          "metadata": {
            "tags": []
          },
          "execution_count": 6
        }
      ]
    },
    {
      "cell_type": "markdown",
      "metadata": {
        "colab_type": "text",
        "id": "wVnFrL3J3VYz"
      },
      "source": [
        "위 소스코드에서 확인할 수 있듯이, 실행하는 순간 연산이 되기 때문에 텐서 정보에 실행결과가 저장되는 것을 확인할 수 있다. \n",
        "\n",
        "Congratulation! You installed Tensorflow 2.0"
      ]
    }
  ]
}