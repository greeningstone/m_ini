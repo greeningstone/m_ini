{
  "nbformat": 4,
  "nbformat_minor": 0,
  "metadata": {
    "colab": {
      "name": "class.ipynb",
      "provenance": [],
      "collapsed_sections": [],
      "authorship_tag": "ABX9TyOud0hF9RlkOiQh9nRsoK/v",
      "include_colab_link": true
    },
    "kernelspec": {
      "name": "python3",
      "display_name": "Python 3"
    }
  },
  "cells": [
    {
      "cell_type": "markdown",
      "metadata": {
        "id": "view-in-github",
        "colab_type": "text"
      },
      "source": [
        "<a href=\"https://colab.research.google.com/github/greeningstone/m_ini/blob/master/class.ipynb\" target=\"_parent\"><img src=\"https://colab.research.google.com/assets/colab-badge.svg\" alt=\"Open In Colab\"/></a>"
      ]
    },
    {
      "cell_type": "code",
      "metadata": {
        "id": "6qjL1DYtKXzL",
        "colab_type": "code",
        "colab": {}
      },
      "source": [
        "result1=0\n",
        "result2 = 0\n",
        "\n",
        "def add(num):\n",
        "  global result1\n",
        "  global result2\n",
        "  result1 += num\n",
        "  return result1\n",
        "\n",
        "  print(add(10))"
      ],
      "execution_count": 3,
      "outputs": []
    },
    {
      "cell_type": "markdown",
      "metadata": {
        "id": "8L2DDE9gOLFV",
        "colab_type": "text"
      },
      "source": [
        "## 사람 클래스\n",
        "- 사람의 특징\n",
        " + 이름, 나이, 취미, etc\n",
        "- 사람의 행동\n",
        " + 잠자는 행동, 밥 먹는 행동,\n",
        "\n",
        " ## 프로그래밍\n",
        " - 사람에 대한 변수\n",
        "  + name = \"rain\" & age =20, wife_name =\n",
        "  \"김태희\"\n",
        "- 사람이 하는 행동\n",
        " + def sleep(): def eat(): "
      ]
    },
    {
      "cell_type": "code",
      "metadata": {
        "id": "BSvSTjjON8ch",
        "colab_type": "code",
        "colab": {}
      },
      "source": [
        "class Human:\n",
        "  #사람에 대한 특징\n",
        "  name = \"Rain\"\n",
        "  age = 30\n",
        "\n",
        "  #사람에 대한 행동\n",
        "  def exercise(self):\n",
        "    print(\"운동합니다\")"
      ],
      "execution_count": 5,
      "outputs": []
    },
    {
      "cell_type": "code",
      "metadata": {
        "id": "1BvnfDsqOmvW",
        "colab_type": "code",
        "colab": {
          "base_uri": "https://localhost:8080/",
          "height": 71
        },
        "outputId": "784e2caf-0ff2-4e4c-a5e3-672273265351"
      },
      "source": [
        "rain = Human()\n",
        "print(rain.name)\n",
        "print(rain.age)\n",
        "rain.exercise()"
      ],
      "execution_count": 6,
      "outputs": [
        {
          "output_type": "stream",
          "text": [
            "Rain\n",
            "30\n",
            "운동합니다\n"
          ],
          "name": "stdout"
        }
      ]
    },
    {
      "cell_type": "markdown",
      "metadata": {
        "id": "yKEQP7S9O7qu",
        "colab_type": "text"
      },
      "source": [
        "### 일반적인 형태의 클래스"
      ]
    },
    {
      "cell_type": "code",
      "metadata": {
        "id": "j7BcXOrUOycl",
        "colab_type": "code",
        "colab": {
          "base_uri": "https://localhost:8080/",
          "height": 53
        },
        "outputId": "9bb8ba98-c11f-4014-a131-f012bf64435a"
      },
      "source": [
        "class Human:\n",
        "  def __init__(self, name, age):\n",
        "    self.name = name\n",
        "    self.age = age\n",
        "\n",
        "evan = Human(\"Evan\",30)\n",
        "hanna = Human (\" Hanna\", 20)\n",
        "\n",
        "print(evan.name)\n",
        "print(hanna.age)"
      ],
      "execution_count": 9,
      "outputs": [
        {
          "output_type": "stream",
          "text": [
            "Evan\n",
            "20\n"
          ],
          "name": "stdout"
        }
      ]
    },
    {
      "cell_type": "code",
      "metadata": {
        "id": "M1SBXVlHQufo",
        "colab_type": "code",
        "colab": {
          "base_uri": "https://localhost:8080/",
          "height": 136
        },
        "outputId": "f5ed4268-6e62-4856-b371-cb3172a9da27"
      },
      "source": [
        "class Human:\n",
        "  def __init__(self, name, hobby, degree):\n",
        "    self.name = name\n",
        "    self.age = age\n",
        "    self.hobby = hobby\n",
        "    self.degree = degree\n",
        "\n",
        " evan = Human(\"Evan\",30, \"축구\", \"고졸\")\n",
        " hanna = Human (\" Hanna\", 20, \"프로그래밍\", \"대졸\")\n",
        "\n",
        " print(evan.name)\n",
        " print(hanna.age)"
      ],
      "execution_count": 21,
      "outputs": [
        {
          "output_type": "error",
          "ename": "IndentationError",
          "evalue": "ignored",
          "traceback": [
            "\u001b[0;36m  File \u001b[0;32m\"<ipython-input-21-158cb868e967>\"\u001b[0;36m, line \u001b[0;32m8\u001b[0m\n\u001b[0;31m    evan = Human(\"Evan\",30, \"축구\", \"고졸\")\u001b[0m\n\u001b[0m                                       ^\u001b[0m\n\u001b[0;31mIndentationError\u001b[0m\u001b[0;31m:\u001b[0m unindent does not match any outer indentation level\n"
          ]
        }
      ]
    },
    {
      "cell_type": "code",
      "metadata": {
        "id": "OEhEnzXNSCtf",
        "colab_type": "code",
        "colab": {
          "base_uri": "https://localhost:8080/",
          "height": 244
        },
        "outputId": "cbd073d1-1078-4a8f-9347-acb3a9fc3da4"
      },
      "source": [
        "class Human:\n",
        "  def __init__(self, name, hobby, degree):\n",
        "    self.name = name\n",
        "    self.age = age\n",
        "    self.hobby = hobby\n",
        "    self.degree = degree\n",
        "\n",
        "  def describe(self):\n",
        "    return f\"{self.name} 의 나이는 {self.age}\"\n",
        "\n",
        "0\n",
        "hanna = Human (\" Hanna\", 20, \"프로그래밍\", \"대졸\")\n",
        "\n",
        "print(evan.name, evan.hobby,evan.degree )\n",
        "print(hanna.name, hanna.hobby, hanna.degree)"
      ],
      "execution_count": 20,
      "outputs": [
        {
          "output_type": "error",
          "ename": "TypeError",
          "evalue": "ignored",
          "traceback": [
            "\u001b[0;31m---------------------------------------------------------------------------\u001b[0m",
            "\u001b[0;31mTypeError\u001b[0m                                 Traceback (most recent call last)",
            "\u001b[0;32m<ipython-input-20-434e28fd1a6e>\u001b[0m in \u001b[0;36m<module>\u001b[0;34m()\u001b[0m\n\u001b[1;32m      9\u001b[0m     \u001b[0;32mreturn\u001b[0m \u001b[0;34mf\"{self.name} 의 나이는 {self.age}\"\u001b[0m\u001b[0;34m\u001b[0m\u001b[0;34m\u001b[0m\u001b[0m\n\u001b[1;32m     10\u001b[0m \u001b[0;34m\u001b[0m\u001b[0m\n\u001b[0;32m---> 11\u001b[0;31m \u001b[0mevan\u001b[0m \u001b[0;34m=\u001b[0m \u001b[0mHuman\u001b[0m \u001b[0;34m(\u001b[0m\u001b[0;34m\"Evan\"\u001b[0m\u001b[0;34m,\u001b[0m\u001b[0;36m30\u001b[0m\u001b[0;34m,\u001b[0m \u001b[0;34m\"축구\"\u001b[0m\u001b[0;34m,\u001b[0m \u001b[0;34m\"고졸\"\u001b[0m\u001b[0;34m)\u001b[0m\u001b[0;34m\u001b[0m\u001b[0;34m\u001b[0m\u001b[0m\n\u001b[0m\u001b[1;32m     12\u001b[0m \u001b[0mhanna\u001b[0m \u001b[0;34m=\u001b[0m \u001b[0mHuman\u001b[0m \u001b[0;34m(\u001b[0m\u001b[0;34m\" Hanna\"\u001b[0m\u001b[0;34m,\u001b[0m \u001b[0;36m20\u001b[0m\u001b[0;34m,\u001b[0m \u001b[0;34m\"프로그래밍\"\u001b[0m\u001b[0;34m,\u001b[0m \u001b[0;34m\"대졸\"\u001b[0m\u001b[0;34m)\u001b[0m\u001b[0;34m\u001b[0m\u001b[0;34m\u001b[0m\u001b[0m\n\u001b[1;32m     13\u001b[0m \u001b[0;34m\u001b[0m\u001b[0m\n",
            "\u001b[0;31mTypeError\u001b[0m: __init__() takes 4 positional arguments but 5 were given"
          ]
        }
      ]
    },
    {
      "cell_type": "code",
      "metadata": {
        "id": "8Og6gaSTS7FH",
        "colab_type": "code",
        "colab": {}
      },
      "source": [
        ""
      ],
      "execution_count": null,
      "outputs": []
    },
    {
      "cell_type": "code",
      "metadata": {
        "id": "R9VH86rLUAmV",
        "colab_type": "code",
        "colab": {
          "base_uri": "https://localhost:8080/",
          "height": 35
        },
        "outputId": "0d3056b0-56e6-4658-8812-8b8adaec6b08"
      },
      "source": [
        "class Human:\n",
        "  def __init__ (self, name, age):\n",
        "    self.name = name\n",
        "    self.age = age\n",
        "\n",
        "  def describe(self):\n",
        "    return f\"{self.name}의 나이는 {self.age}이다.\"\n",
        "\n",
        "  def skinColor(self,color):\n",
        "    return f\"{self.name}의 피부 색상은 {color}이다.\"\n",
        "\n",
        "class Asian(Human):\n",
        "  pass\n",
        "  \n",
        "evan = Asian(\"Jihoon\",9)\n",
        "print(evan.skinColor(\"Yello\"))"
      ],
      "execution_count": 18,
      "outputs": [
        {
          "output_type": "stream",
          "text": [
            "Jihoon의 피부 색상은 Yello이다.\n"
          ],
          "name": "stdout"
        }
      ]
    },
    {
      "cell_type": "code",
      "metadata": {
        "id": "PIRH4UI4c8hO",
        "colab_type": "code",
        "colab": {}
      },
      "source": [
        ""
      ],
      "execution_count": null,
      "outputs": []
    },
    {
      "cell_type": "markdown",
      "metadata": {
        "id": "u9N_Lm95c80b",
        "colab_type": "text"
      },
      "source": [
        "# Marchine Learning Example with Class"
      ]
    },
    {
      "cell_type": "code",
      "metadata": {
        "id": "sbHLTlbVaImb",
        "colab_type": "code",
        "colab": {
          "base_uri": "https://localhost:8080/",
          "height": 145
        },
        "outputId": "ef4876e9-1723-4b54-f25f-57b0cc417458"
      },
      "source": [
        "# Mount Google Drive\n",
        "from google.colab import drive # import drive from google colab\n",
        "\n",
        "ROOT = \"/content/drive\"     # default location for the drive\n",
        "print(ROOT)                 # print content of ROOT (Optional)\n",
        "drive.mount(ROOT)"
      ],
      "execution_count": 23,
      "outputs": [
        {
          "output_type": "stream",
          "text": [
            "/content/drive\n",
            "Go to this URL in a browser: https://accounts.google.com/o/oauth2/auth?client_id=947318989803-6bn6qk8qdgf4n4g3pfee6491hc0brc4i.apps.googleusercontent.com&redirect_uri=urn%3aietf%3awg%3aoauth%3a2.0%3aoob&scope=email%20https%3a%2f%2fwww.googleapis.com%2fauth%2fdocs.test%20https%3a%2f%2fwww.googleapis.com%2fauth%2fdrive%20https%3a%2f%2fwww.googleapis.com%2fauth%2fdrive.photos.readonly%20https%3a%2f%2fwww.googleapis.com%2fauth%2fpeopleapi.readonly&response_type=code\n",
            "\n",
            "Enter your authorization code:\n",
            "··········\n",
            "Mounted at /content/drive\n"
          ],
          "name": "stdout"
        }
      ]
    },
    {
      "cell_type": "code",
      "metadata": {
        "id": "x05N9KooaIpO",
        "colab_type": "code",
        "colab": {}
      },
      "source": [
        "# import join used to join ROOT path and MY_GOOGLE_DRIVE_PATH\n",
        "from os.path import join  \n",
        "\n",
        "# path to your project on Google Drive\n",
        "MY_GOOGLE_DRIVE_PATH = 'My Drive/Colab Notebooks/data'\n",
        "PROJECT_PATH = join(ROOT, MY_GOOGLE_DRIVE_PATH)"
      ],
      "execution_count": 24,
      "outputs": []
    },
    {
      "cell_type": "code",
      "metadata": {
        "id": "ALIP32uCdMCe",
        "colab_type": "code",
        "colab": {
          "base_uri": "https://localhost:8080/",
          "height": 53
        },
        "outputId": "963aafae-5436-44ab-bdf6-89dc85f7a210"
      },
      "source": [
        "%cd \"{PROJECT_PATH}\"\n",
        "!ls"
      ],
      "execution_count": 25,
      "outputs": [
        {
          "output_type": "stream",
          "text": [
            "/content/drive/My Drive/Colab Notebooks/data\n",
            "weather2.csv  weather.csv\n"
          ],
          "name": "stdout"
        }
      ]
    },
    {
      "cell_type": "markdown",
      "metadata": {
        "id": "lIIQFXaQa5SF",
        "colab_type": "text"
      },
      "source": [
        "## 두개의 다른 데이터\n",
        "- 각각의 데이터의 컬럼명이 어떻게 다른지 확인해본다."
      ]
    },
    {
      "cell_type": "markdown",
      "metadata": {
        "id": "xQD_JNQfbP2r",
        "colab_type": "text"
      },
      "source": [
        "현재의 문제점\n",
        "\n",
        "- weather vs weather2\n",
        "- 컬럼명이 다른 상태"
      ]
    },
    {
      "cell_type": "code",
      "metadata": {
        "id": "UNcwpbRtaIrw",
        "colab_type": "code",
        "colab": {
          "base_uri": "https://localhost:8080/",
          "height": 359
        },
        "outputId": "4ad04efa-84c8-4772-d3ae-4c42e61a649b"
      },
      "source": [
        "import pandas as pd\n",
        "\n",
        "data = pd.read_csv(\"weather.csv\")\n",
        "data.info()"
      ],
      "execution_count": 27,
      "outputs": [
        {
          "output_type": "stream",
          "text": [
            "<class 'pandas.core.frame.DataFrame'>\n",
            "RangeIndex: 96453 entries, 0 to 96452\n",
            "Data columns (total 12 columns):\n",
            " #   Column                    Non-Null Count  Dtype  \n",
            "---  ------                    --------------  -----  \n",
            " 0   Formatted Date            96453 non-null  object \n",
            " 1   Summary                   96453 non-null  object \n",
            " 2   Precip Type               95936 non-null  object \n",
            " 3   Temperature (C)           96453 non-null  float64\n",
            " 4   Apparent Temperature (C)  96453 non-null  float64\n",
            " 5   Humidity                  96453 non-null  float64\n",
            " 6   Wind Speed (km/h)         96453 non-null  float64\n",
            " 7   Wind Bearing (degrees)    96453 non-null  float64\n",
            " 8   Visibility (km)           96453 non-null  float64\n",
            " 9   Loud Cover                96453 non-null  float64\n",
            " 10  Pressure (millibars)      96453 non-null  float64\n",
            " 11  Daily Summary             96453 non-null  object \n",
            "dtypes: float64(8), object(4)\n",
            "memory usage: 8.8+ MB\n"
          ],
          "name": "stdout"
        }
      ]
    },
    {
      "cell_type": "code",
      "metadata": {
        "id": "WHtbOcSudsC1",
        "colab_type": "code",
        "colab": {
          "base_uri": "https://localhost:8080/",
          "height": 233
        },
        "outputId": "0fb3f87f-c5be-4e84-9383-294abc1319cc"
      },
      "source": [
        "data_columns = data.columns.tolist()\n",
        "data_columns"
      ],
      "execution_count": 28,
      "outputs": [
        {
          "output_type": "execute_result",
          "data": {
            "text/plain": [
              "['Formatted Date',\n",
              " 'Summary',\n",
              " 'Precip Type',\n",
              " 'Temperature (C)',\n",
              " 'Apparent Temperature (C)',\n",
              " 'Humidity',\n",
              " 'Wind Speed (km/h)',\n",
              " 'Wind Bearing (degrees)',\n",
              " 'Visibility (km)',\n",
              " 'Loud Cover',\n",
              " 'Pressure (millibars)',\n",
              " 'Daily Summary']"
            ]
          },
          "metadata": {
            "tags": []
          },
          "execution_count": 28
        }
      ]
    },
    {
      "cell_type": "code",
      "metadata": {
        "id": "EuXLP0wbdv-i",
        "colab_type": "code",
        "colab": {
          "base_uri": "https://localhost:8080/",
          "height": 359
        },
        "outputId": "289ce7e3-73f3-4670-f35c-818629f598d1"
      },
      "source": [
        "data2 = pd.read_csv(\"weather2.csv\")\n",
        "data2.info()"
      ],
      "execution_count": 30,
      "outputs": [
        {
          "output_type": "stream",
          "text": [
            "<class 'pandas.core.frame.DataFrame'>\n",
            "RangeIndex: 10000 entries, 0 to 9999\n",
            "Data columns (total 12 columns):\n",
            " #   Column                    Non-Null Count  Dtype  \n",
            "---  ------                    --------------  -----  \n",
            " 0   Formatted.Date            10000 non-null  object \n",
            " 1   Summary                   10000 non-null  object \n",
            " 2   Precip.Type               10000 non-null  object \n",
            " 3   Temperature..C.           10000 non-null  float64\n",
            " 4   Apparent.Temperature..C.  10000 non-null  float64\n",
            " 5   Humidity                  10000 non-null  float64\n",
            " 6   Wind.Speed..km.h.         10000 non-null  float64\n",
            " 7   Wind.Bearing..degrees.    10000 non-null  int64  \n",
            " 8   Visibility..km.           10000 non-null  float64\n",
            " 9   Loud.Cover                10000 non-null  int64  \n",
            " 10  Pressure..millibars.      10000 non-null  float64\n",
            " 11  Daily.Summary             10000 non-null  object \n",
            "dtypes: float64(6), int64(2), object(4)\n",
            "memory usage: 937.6+ KB\n"
          ],
          "name": "stdout"
        }
      ]
    },
    {
      "cell_type": "markdown",
      "metadata": {
        "id": "fjXBrR1Yd-vv",
        "colab_type": "text"
      },
      "source": [
        "### Class 작성\n",
        "- 머신러닝 클래스를 작성한다. "
      ]
    },
    {
      "cell_type": "code",
      "metadata": {
        "id": "wE6i2WAtd0aJ",
        "colab_type": "code",
        "colab": {}
      },
      "source": [
        "from sklearn.ensemble import RandomForestRegressor\n",
        "from sklearn.linear_model import LinearRegression\n",
        "from sklearn.model_selection import train_test_split\n",
        "import numpy as np\n",
        "import pandas as pd\n",
        "\n",
        "\n",
        "class Model:\n",
        "    def __init__(self, datafile, model_type = None):\n",
        "       self.datafile = datafile\n",
        "       self.df = pd.read_csv(datafile)\n",
        "       data_columns = ['Formatted Date', 'Summary', 'Precip Type', \n",
        "                       'Temperature (C)', 'Apparent Temperature (C)', \n",
        "                       'Humidity', 'Wind Speed (km/h)', 'Wind Bearing (degrees)',\n",
        "                       'Visibility (km)', 'Loud Cover', 'Pressure (millibars)','Daily Summary']\n",
        "       self.df.columns = data_columns\n",
        "\n",
        "       if model_type == 'rf':\n",
        "            self.user_defined_model = RandomForestRegressor() \n",
        "       else:\n",
        "            self.user_defined_model = LinearRegression()\n",
        "            \n",
        "    def split(self, test_size):\n",
        "        X = np.array(self.df[['Humidity', 'Pressure (millibars)']])\n",
        "        y = np.array(self.df['Temperature (C)'])\n",
        "        self.X_train, self.X_test, self.y_train, self.y_test = train_test_split(X, y, test_size = test_size, random_state = 42)\n",
        "    \n",
        "    def fit(self):\n",
        "        self.model = self.user_defined_model.fit(self.X_train, self.y_train)\n",
        "    \n",
        "    def predict(self, input_value):\n",
        "        if input_value == None:\n",
        "            result = self.user_defined_model.predict(self.X_test)\n",
        "        else: \n",
        "            result = self.user_defined_model.predict(np.array([input_value]))"
      ],
      "execution_count": 31,
      "outputs": []
    },
    {
      "cell_type": "markdown",
      "metadata": {
        "id": "0_yDKN_OeZB8",
        "colab_type": "text"
      },
      "source": [
        "# 클래스 재사용성 확인"
      ]
    },
    {
      "cell_type": "code",
      "metadata": {
        "id": "-biktBfxd6eK",
        "colab_type": "code",
        "colab": {
          "base_uri": "https://localhost:8080/",
          "height": 53
        },
        "outputId": "3882b53c-dc08-419c-d5fd-ef67da22b6b1"
      },
      "source": [
        "if __name__ == '__main__':\n",
        "    a_model = Model(datafile=\"weather.csv\", model_type=None)\n",
        "    a_model.split(0.2)\n",
        "    a_model.fit()    \n",
        "    print(a_model.predict([.9, 1000]))\n",
        "    print(\"Accuracy: \", a_model.model.score(a_model.X_test, a_model.y_test))"
      ],
      "execution_count": 32,
      "outputs": [
        {
          "output_type": "stream",
          "text": [
            "None\n",
            "Accuracy:  0.39578560465686424\n"
          ],
          "name": "stdout"
        }
      ]
    },
    {
      "cell_type": "code",
      "metadata": {
        "id": "xBOZ_wTIee_7",
        "colab_type": "code",
        "colab": {
          "base_uri": "https://localhost:8080/",
          "height": 53
        },
        "outputId": "c2ef1fe4-039d-4c83-9623-f4b3ba1ec723"
      },
      "source": [
        "if __name__ == '__main__':\n",
        "    b_model = Model(datafile=\"weather2.csv\", model_type=None)\n",
        "    b_model.split(0.3)\n",
        "    b_model.fit()\n",
        "    print(b_model.predict([.9, 1000]))\n",
        "    print(\"Accuracy: \", b_model.model.score(b_model.X_test, b_model.y_test))"
      ],
      "execution_count": 33,
      "outputs": [
        {
          "output_type": "stream",
          "text": [
            "None\n",
            "Accuracy:  0.35698882811391797\n"
          ],
          "name": "stdout"
        }
      ]
    }
  ]
}